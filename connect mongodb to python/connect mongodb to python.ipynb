{
 "cells": [
  {
   "cell_type": "markdown",
   "id": "f733128f",
   "metadata": {},
   "source": [
    "# How To Connect Python With MongoDb"
   ]
  },
  {
   "cell_type": "code",
   "execution_count": 1,
   "id": "de078c23",
   "metadata": {},
   "outputs": [
    {
     "name": "stdout",
     "output_type": "stream",
     "text": [
      "Collecting pymongo\n",
      "  Downloading pymongo-4.0-cp38-cp38-manylinux_2_17_x86_64.manylinux2014_x86_64.whl (468 kB)\n",
      "\u001b[K     |████████████████████████████████| 468 kB 778 kB/s eta 0:00:01\n",
      "\u001b[?25hInstalling collected packages: pymongo\n",
      "Successfully installed pymongo-4.0\n"
     ]
    }
   ],
   "source": [
    "!pip install pymongo"
   ]
  },
  {
   "cell_type": "markdown",
   "id": "78b3bf94",
   "metadata": {},
   "source": [
    "RDBMS                                   MongoDB\n",
    "Database                                Database\n",
    "Table                                   Collection\n",
    "Tuple/Row                               Document\n",
    "column Field\n",
    "Table Join                              Embedded Documents\n",
    "Primary Key                             Primary Key (Default key _id provided by MongoDB itself)"
   ]
  },
  {
   "cell_type": "code",
   "execution_count": 2,
   "id": "6b6ebf62",
   "metadata": {},
   "outputs": [],
   "source": [
    "import pymongo"
   ]
  },
  {
   "cell_type": "code",
   "execution_count": 5,
   "id": "d439eff4",
   "metadata": {},
   "outputs": [
    {
     "data": {
      "text/plain": [
       "<pymongo.results.InsertOneResult at 0x7f07281e7840>"
      ]
     },
     "execution_count": 5,
     "metadata": {},
     "output_type": "execute_result"
    }
   ],
   "source": [
    "client = pymongo.MongoClient('mongodb://127.0.0.1:27017')\n",
    "mydb = client['college']\n",
    "info = mydb.studentinfo\n",
    "record = {\n",
    "    'firstname':'kishan',\n",
    "    'lastname':'dongare',\n",
    "    'age':21,\n",
    "    'department':'IT'\n",
    "      \n",
    "}\n",
    "info.insert_one(record)"
   ]
  },
  {
   "cell_type": "code",
   "execution_count": 6,
   "id": "b0eacb91",
   "metadata": {},
   "outputs": [
    {
     "data": {
      "text/plain": [
       "<pymongo.results.InsertManyResult at 0x7f07286b0540>"
      ]
     },
     "execution_count": 6,
     "metadata": {},
     "output_type": "execute_result"
    }
   ],
   "source": [
    "client = pymongo.MongoClient('mongodb://127.0.0.1:27017')\n",
    "mydb = client['college']\n",
    "info = mydb.studentinfo\n",
    "record = [{\n",
    "    'firstname':'kishan',\n",
    "    'lastname':'dongare',\n",
    "    'age':21,\n",
    "    'department':'IT'\n",
    "      \n",
    "},{\n",
    "    'firstname':'aarush',\n",
    "    'lastname':'dongare',\n",
    "    'age':22,\n",
    "    'department':'CS'\n",
    "      \n",
    "},{\n",
    "    'firstname':'sahil',\n",
    "    'lastname':'dongare',\n",
    "    'age':23,\n",
    "    'department':'CS'\n",
    "      \n",
    "}]\n",
    "info.insert_many(record)"
   ]
  },
  {
   "cell_type": "code",
   "execution_count": null,
   "id": "a2b47648",
   "metadata": {},
   "outputs": [],
   "source": [
    "All record got upadated"
   ]
  }
 ],
 "metadata": {
  "kernelspec": {
   "display_name": "Python 3",
   "language": "python",
   "name": "python3"
  },
  "language_info": {
   "codemirror_mode": {
    "name": "ipython",
    "version": 3
   },
   "file_extension": ".py",
   "mimetype": "text/x-python",
   "name": "python",
   "nbconvert_exporter": "python",
   "pygments_lexer": "ipython3",
   "version": "3.8.8"
  }
 },
 "nbformat": 4,
 "nbformat_minor": 5
}
